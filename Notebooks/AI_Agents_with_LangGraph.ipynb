{
  "nbformat": 4,
  "nbformat_minor": 0,
  "metadata": {
    "colab": {
      "provenance": []
    },
    "kernelspec": {
      "name": "python3",
      "display_name": "Python 3"
    },
    "language_info": {
      "name": "python"
    }
  },
  "cells": [
    {
      "cell_type": "markdown",
      "source": [
        "# **Dependencies**"
      ],
      "metadata": {
        "id": "MfFHi1QCulQ2"
      }
    },
    {
      "cell_type": "code",
      "execution_count": 1,
      "metadata": {
        "colab": {
          "base_uri": "https://localhost:8080/"
        },
        "id": "Yc6EebrkdeBa",
        "outputId": "bf5582b2-0068-4538-f672-212cf476992d"
      },
      "outputs": [
        {
          "output_type": "stream",
          "name": "stdout",
          "text": [
            "\u001b[2K   \u001b[90m━━━━━━━━━━━━━━━━━━━━━━━━━━━━━━━━━━━━━━━━\u001b[0m \u001b[32m2.4/2.4 MB\u001b[0m \u001b[31m12.9 MB/s\u001b[0m eta \u001b[36m0:00:00\u001b[0m\n",
            "\u001b[2K   \u001b[90m━━━━━━━━━━━━━━━━━━━━━━━━━━━━━━━━━━━━━━━━\u001b[0m \u001b[32m1.0/1.0 MB\u001b[0m \u001b[31m12.9 MB/s\u001b[0m eta \u001b[36m0:00:00\u001b[0m\n",
            "\u001b[2K   \u001b[90m━━━━━━━━━━━━━━━━━━━━━━━━━━━━━━━━━━━━━━━━\u001b[0m \u001b[32m117.3/117.3 kB\u001b[0m \u001b[31m4.0 MB/s\u001b[0m eta \u001b[36m0:00:00\u001b[0m\n",
            "\u001b[2K   \u001b[90m━━━━━━━━━━━━━━━━━━━━━━━━━━━━━━━━━━━━━━━━\u001b[0m \u001b[32m106.5/106.5 kB\u001b[0m \u001b[31m4.1 MB/s\u001b[0m eta \u001b[36m0:00:00\u001b[0m\n",
            "\u001b[2K   \u001b[90m━━━━━━━━━━━━━━━━━━━━━━━━━━━━━━━━━━━━━━━━\u001b[0m \u001b[32m408.7/408.7 kB\u001b[0m \u001b[31m11.6 MB/s\u001b[0m eta \u001b[36m0:00:00\u001b[0m\n",
            "\u001b[2K   \u001b[90m━━━━━━━━━━━━━━━━━━━━━━━━━━━━━━━━━━━━━━━━\u001b[0m \u001b[32m49.5/49.5 kB\u001b[0m \u001b[31m1.6 MB/s\u001b[0m eta \u001b[36m0:00:00\u001b[0m\n",
            "\u001b[2K   \u001b[90m━━━━━━━━━━━━━━━━━━━━━━━━━━━━━━━━━━━━━━━━\u001b[0m \u001b[32m1.2/1.2 MB\u001b[0m \u001b[31m15.7 MB/s\u001b[0m eta \u001b[36m0:00:00\u001b[0m\n",
            "\u001b[?25h"
          ]
        }
      ],
      "source": [
        "!pip install -q langchain langchain_community langchain_huggingface langgraph langchain-groq langgraph-checkpoint-sqlite\n",
        "!pip install -q tavily-python"
      ]
    },
    {
      "cell_type": "code",
      "source": [
        "import os\n",
        "from google.colab import userdata\n",
        "\n",
        "os.environ[\"GROQ_API_KEY\"] = userdata.get(\"GROK_LLAMA3\")\n",
        "os.environ[\"TAVILY_API_KEY\"] = userdata.get(\"TAVILY_API_KEY\")"
      ],
      "metadata": {
        "id": "fBmgfU9rrxM6"
      },
      "execution_count": 2,
      "outputs": []
    },
    {
      "cell_type": "markdown",
      "source": [
        "# **Initializing LLM**"
      ],
      "metadata": {
        "id": "1A6uXpB0upmj"
      }
    },
    {
      "cell_type": "code",
      "source": [
        "from langchain_groq import ChatGroq\n",
        "llm = ChatGroq(model_name=\"Llama-3.1-8b-Instant\")"
      ],
      "metadata": {
        "id": "RzGmUzTpsV8X"
      },
      "execution_count": 3,
      "outputs": []
    },
    {
      "cell_type": "code",
      "source": [
        "import pprint\n",
        "\n",
        "response = llm.invoke(\"Who is Imran Khan\")"
      ],
      "metadata": {
        "id": "V_RCAHaisyS-"
      },
      "execution_count": 4,
      "outputs": []
    },
    {
      "cell_type": "code",
      "source": [
        "pprint.pprint(response.content)"
      ],
      "metadata": {
        "colab": {
          "base_uri": "https://localhost:8080/"
        },
        "id": "5_f4PV3xtJJt",
        "outputId": "0d39bedf-44dd-4dac-f07d-4c8e30e6ac70"
      },
      "execution_count": 5,
      "outputs": [
        {
          "output_type": "stream",
          "name": "stdout",
          "text": [
            "('Imran Khan is a Pakistani politician, former cricketer, and philanthropist. '\n",
            " 'He is the 22nd and current Prime Minister of Pakistan, serving from 2018 to '\n",
            " '2022. \\n'\n",
            " '\\n'\n",
            " 'Born on October 5, 1952, in Lahore, Pakistan, Imran Khan studied at the '\n",
            " 'Royal Grammar School in Guildford, England, and later attended the Keble '\n",
            " 'College, Oxford, where he earned a degree in Philosophy, Politics, and '\n",
            " 'Economics. He was an exceptional cricketer and captained the Pakistan '\n",
            " 'national cricket team from 1982 to 1992.\\n'\n",
            " '\\n'\n",
            " 'Imran Khan is the founder of the Pakistan Tehreek-e-Insaf (PTI), a '\n",
            " 'center-right political party that focuses on social and economic reform. He '\n",
            " \"was first elected to the National Assembly of Pakistan in 2013. Khan's rise \"\n",
            " 'to power was largely attributed to his successful campaign against '\n",
            " 'corruption and his promise to bring change to Pakistan.\\n'\n",
            " '\\n'\n",
            " \"As Prime Minister, Imran Khan's government focused on various initiatives, \"\n",
            " 'including:\\n'\n",
            " '\\n'\n",
            " '1. Economic development and job creation\\n'\n",
            " '2. Corruption eradication and accountability\\n'\n",
            " '3. Healthcare and education reforms\\n'\n",
            " '4. Infrastructure development and energy production\\n'\n",
            " '5. Foreign policy and regional diplomacy\\n'\n",
            " '\\n'\n",
            " 'However, his tenure was marked by controversy, including criticism of his '\n",
            " 'handling of the economy, and allegations of corruption and nepotism within '\n",
            " 'his government. He was ousted from power in a no-confidence vote in April '\n",
            " '2022.\\n'\n",
            " '\\n'\n",
            " 'Imran Khan remains a prominent figure in Pakistani politics, known for his '\n",
            " 'strong opinions on social and economic issues, and his efforts to promote a '\n",
            " 'values-based politics.')\n"
          ]
        }
      ]
    },
    {
      "cell_type": "markdown",
      "source": [
        "# **Tavily**"
      ],
      "metadata": {
        "id": "puRBzbfBuuC9"
      }
    },
    {
      "cell_type": "code",
      "source": [
        "from tavily import TavilyClient\n",
        "\n",
        "client = TavilyClient(api_key=os.environ[\"TAVILY_API_KEY\"])\n",
        "\n",
        "response = client.search(query = \"Election 2024 Pakistan\")\n",
        "\n",
        "pprint.pprint(response['results'][1]['content'])"
      ],
      "metadata": {
        "colab": {
          "base_uri": "https://localhost:8080/"
        },
        "id": "XYMvGTWstNbe",
        "outputId": "de21ecc2-8481-41cc-b6e9-885c16ce3d07"
      },
      "execution_count": 6,
      "outputs": [
        {
          "output_type": "stream",
          "name": "stdout",
          "text": [
            "('Here are the country’s major parties:\\n'\n",
            " 'Pakistan Muslim League-Nawaz (PMLN)\\n'\n",
            " 'Nawaz Sharif, a three-time prime minister, returned to Pakistan after four '\n",
            " 'years – in late 2023 – to assume the role of the head of the party. By the '\n",
            " 'numbers\\n'\n",
            " 'Pakistan election 2024: How the voting works\\n'\n",
            " '‘Guerilla campaign’: How Imran Khan is fighting Pakistan election from jail\\n'\n",
            " 'Pakistan’s election: Can the next government bring economic stability?\\n'\n",
            " ' The National Assembly comprises 336 seats – 266 to be decided through '\n",
            " 'direct voting, while 60 seats are reserved for women and 10 for minorities '\n",
            " 'which are allotted on the basis of 5 percent proportional representation in '\n",
            " 'the federal parliament.\\n'\n",
            " ' Skip links\\n'\n",
            " 'Live\\n'\n",
            " 'Navigation menu\\n'\n",
            " 'Live\\n'\n",
            " 'Pakistan election 2024: Live results\\n'\n",
            " 'About 128 million voters were registered to vote in national and state '\n",
            " 'elections amid political and economic challenges.\\n'\n",
            " ' How voting works in Pakistan\\n'\n",
            " 'Each voter can cast two votes — one for the National Assembly and the other '\n",
            " 'for the provincial assembly.\\n')\n"
          ]
        }
      ]
    },
    {
      "cell_type": "markdown",
      "source": [
        "**Different Ways to look**"
      ],
      "metadata": {
        "id": "3hnpruPGuzn_"
      }
    },
    {
      "cell_type": "code",
      "source": [
        "for result in response['results']:\n",
        "  print(f\"Title: {result['title']}, URL: {result['url']}\")"
      ],
      "metadata": {
        "colab": {
          "base_uri": "https://localhost:8080/"
        },
        "id": "jmIcpVEot51C",
        "outputId": "6e0cbb92-997f-49d6-e8b7-fe0fe1856fc8"
      },
      "execution_count": 7,
      "outputs": [
        {
          "output_type": "stream",
          "name": "stdout",
          "text": [
            "Title: Pakistan election results 2024 updates: Counting on but no clear winner ..., URL: https://www.aljazeera.com/news/liveblog/2024/2/9/pakistan-election-results-2024-live-tight-race-as-vote-results-trickle-in\n",
            "Title: Pakistan election 2024: Live results | Elections News - Al Jazeera, URL: https://www.aljazeera.com/news/2024/2/9/pakistan-election-2024-live-results\n",
            "Title: Pakistan election results 2024: Pakistan's ex-Premier Sharif says he ..., URL: https://apnews.com/article/pakistan-election-results-sharif-khan-bfa8fa609e29aff4e656491340bba56e\n",
            "Title: 2024 Pakistani general election - Wikipedia, URL: https://en.wikipedia.org/wiki/2024_Pakistani_general_election\n",
            "Title: Election Commission of Pakistan, URL: https://ecp.gov.pk/general-elections-2024\n"
          ]
        }
      ]
    },
    {
      "cell_type": "markdown",
      "source": [
        "Advance Look: Q & A Style"
      ],
      "metadata": {
        "id": "3mi3jsPRu8C8"
      }
    },
    {
      "cell_type": "code",
      "source": [
        "response = client.search(\n",
        "    query = \"Who is the director of Daredevil born again?\",\n",
        "    search_depth = 'advance',\n",
        "    max_results = 7,\n",
        "    include_images = True,\n",
        "    include_answer = True,\n",
        "    include_raw_content = False\n",
        ")\n",
        "\n",
        "print(response[\"answer\"])\n",
        "\n",
        "for result in response['results']:\n",
        "  print(f\"Title: {result['title']}, URL: {result['url']}\")"
      ],
      "metadata": {
        "colab": {
          "base_uri": "https://localhost:8080/"
        },
        "id": "EvJyinI-ujgt",
        "outputId": "2caebe46-5721-4d4e-8a92-ccad9c3503de"
      },
      "execution_count": 8,
      "outputs": [
        {
          "output_type": "stream",
          "name": "stdout",
          "text": [
            "Michael Cuesta is the director of \"Daredevil: Born Again.\"\n",
            "Title: 'Daredevil: Born Again' Lands Director Michael Cuesta, URL: https://www.hollywoodreporter.com/tv/tv-news/daredevil-born-again-lands-director-1235346034/\n",
            "Title: 'Daredevil: Born Again' Releases Writers, Directors as Marvel ... - Variety, URL: https://variety.com/2023/tv/news/daredevil-born-again-writers-directors-marvel-overhaul-reshoots-1235751911/\n",
            "Title: Daredevil Born Again: Release Info, Cast & Everything We Know So Far, URL: https://screenrant.com/daredevil-born-again-release-info-cast-updates/\n",
            "Title: Daredevil: Born Again (TV Series 2025- ) - IMDb, URL: https://www.imdb.com/title/tt18923754/\n",
            "Title: Benson & Moorhead Are the Perfect Directors for 'Daredevil: Born Again', URL: https://collider.com/daredevil-born-again-justin-benson-aaron-moorhead/\n",
            "Title: 'Daredevil Born Again' — Everything We Know About the MCU Series, URL: https://collider.com/daredevil-born-again-charlie-cox-vincent-donofrio-mcu/\n",
            "Title: 'Daredevil: Born Again' Footage Shows Returning Cast, Release ... - Variety, URL: https://variety.com/2024/tv/news/daredevil-born-again-footage-release-date-1235363615/\n"
          ]
        }
      ]
    },
    {
      "cell_type": "markdown",
      "source": [
        "Simplified Q & A"
      ],
      "metadata": {
        "id": "gqVsQxUVxhNa"
      }
    },
    {
      "cell_type": "code",
      "source": [
        "answer = client.qna_search(query = \"Who is the director of Daredevil born again?\")\n",
        "\n",
        "print(answer)"
      ],
      "metadata": {
        "colab": {
          "base_uri": "https://localhost:8080/"
        },
        "id": "L3c7J9-wxMg8",
        "outputId": "d96564ce-3ebf-4913-cc93-51d1a73aed07"
      },
      "execution_count": 9,
      "outputs": [
        {
          "output_type": "stream",
          "name": "stdout",
          "text": [
            "The director of \"Daredevil: Born Again\" is Michael Cuesta.\n"
          ]
        }
      ]
    },
    {
      "cell_type": "markdown",
      "source": [
        "**Prompt Template**"
      ],
      "metadata": {
        "id": "5TzEGZI_0UmC"
      }
    },
    {
      "cell_type": "code",
      "source": [
        "from langchain.prompts import ChatPromptTemplate\n",
        "\n",
        "query = \"Who will win US elections 2024?\"\n",
        "\n",
        "template = \"\"\"\n",
        "You are an AI critical thinker research assistant.\n",
        "Your sole purpose is to write well written, objective and structured reports on given text.\n",
        "\n",
        "Information: \"{response}\"\n",
        "Using the above information, answer the following query: \"{query} in a detailed report.\"\n",
        "\"\"\"\n",
        "\n",
        "prompt = ChatPromptTemplate.from_template(template)\n",
        "formatted_prompt = prompt.format(response = response, query = query)"
      ],
      "metadata": {
        "id": "yAgfZA_4x9wP"
      },
      "execution_count": 10,
      "outputs": []
    },
    {
      "cell_type": "code",
      "source": [
        "result = llm.invoke(formatted_prompt)\n",
        "print(result.content)"
      ],
      "metadata": {
        "colab": {
          "base_uri": "https://localhost:8080/"
        },
        "id": "zlLjJ_1pz2dq",
        "outputId": "610119b2-462f-48ff-a842-f2961cba9eda"
      },
      "execution_count": 11,
      "outputs": [
        {
          "output_type": "stream",
          "name": "stdout",
          "text": [
            "**Report: Query Analysis and Response**\n",
            "\n",
            "**Query:** \"Who will win US elections 2024?\"\n",
            "\n",
            "**Analysis:** The provided information does not contain any relevant data or insights related to the 2024 US elections. The text is focused on the Marvel Studios series \"Daredevil: Born Again,\" including its director, cast, and release information.\n",
            "\n",
            "**Conclusion:** Based on the analysis, it is not possible to answer the query \"Who will win US elections 2024?\" as the relevant information is not available in the provided text.\n",
            "\n",
            "**Recommendations:**\n",
            "\n",
            "1. **External Research:** To answer the query, external research would be required, which includes accessing reputable sources of information on the 2024 US elections.\n",
            "2. **Update Query:** If the query is modified to ask about the general information on the 2024 US elections, such as the candidates, issues, or campaigns, the AI can provide a more detailed report.\n",
            "\n",
            "**Detailed Report (Alternative Query):**\n",
            "\n",
            "**Query:** \"What are the general information on the 2024 US elections?\"\n",
            "\n",
            "**Report:**\n",
            "\n",
            "The 2024 US elections are scheduled to take place on November 5, 2024. The elections will feature various federal, state, and local contests, including the presidential election.\n",
            "\n",
            "**Presidential Election:**\n",
            "\n",
            "The Republican and Democratic parties will nominate their candidates for the presidential election. The candidates will participate in debates, town halls, and other campaign events to reach out to voters.\n",
            "\n",
            "**Key Issues:**\n",
            "\n",
            "The 2024 US elections are expected to focus on several key issues, including:\n",
            "\n",
            "1. Economy and jobs\n",
            "2. Healthcare and healthcare reform\n",
            "3. Climate change and environmental protection\n",
            "4. Immigration and border security\n",
            "5. Education and education reform\n",
            "\n",
            "**Campaigns:**\n",
            "\n",
            "The presidential campaigns will be led by the candidates and their teams, which will include campaign managers, strategists, and advisors. The campaigns will also involve various interest groups, donors, and volunteers.\n",
            "\n",
            "**Conclusion:**\n",
            "\n",
            "The 2024 US elections will be an important event in American politics, with various federal, state, and local contests taking place. The presidential election will feature two candidates from the Republican and Democratic parties, who will compete for the presidency. The elections will focus on several key issues, including the economy, healthcare, climate change, immigration, and education.\n",
            "\n",
            "**References:**\n",
            "\n",
            "1. [Federal Election Commission](https://www.fec.gov/)\n",
            "2. [National Archives and Records Administration](https://www.archives.gov/elections/)\n",
            "3. [CNN](https://www.cnn.com/elections)\n",
            "4. [The New York Times](https://www.nytimes.com/elections)\n",
            "5. [USA Today](https://www.usatoday.com/elections)\n"
          ]
        }
      ]
    },
    {
      "cell_type": "markdown",
      "source": [
        "**The OpenAI Approach**"
      ],
      "metadata": {
        "id": "1uZ4z13g-0pO"
      }
    },
    {
      "cell_type": "code",
      "source": [
        "from langchain.adapters.openai import convert_openai_messages\n",
        "\n",
        "prompt = [\n",
        "    {\n",
        "        'role':'system',\n",
        "        'content': f\"\"\"You are an AI critical thinker research assistant.\n",
        "        Your sole purpose is to write well written, objective and structured reports on given text.\n",
        "        \"\"\"\n",
        "    },\n",
        "    {\n",
        "        'role': 'user',\n",
        "        'content': f\"\"\"Information: {response}\n",
        "        Using the above information, answer the following query: {query} in a detailed report.\"\"\"\n",
        "    }\n",
        "]\n",
        "\n",
        "lc_messages = convert_openai_messages(prompt)"
      ],
      "metadata": {
        "id": "7s5lwGKyz9kC"
      },
      "execution_count": 12,
      "outputs": []
    },
    {
      "cell_type": "code",
      "source": [
        "lc_messages"
      ],
      "metadata": {
        "colab": {
          "base_uri": "https://localhost:8080/"
        },
        "id": "Df3LKxPJ_g8S",
        "outputId": "10ce297b-e915-4609-acd8-ba9153cdfe74"
      },
      "execution_count": 13,
      "outputs": [
        {
          "output_type": "execute_result",
          "data": {
            "text/plain": [
              "[SystemMessage(content='You are an AI critical thinker research assistant. \\n        Your sole purpose is to write well written, objective and structured reports on given text.\\n        ', additional_kwargs={}, response_metadata={}),\n",
              " HumanMessage(content='Information: {\\'query\\': \\'Who is the director of Daredevil born again?\\', \\'follow_up_questions\\': None, \\'answer\\': \\'Michael Cuesta is the director of \"Daredevil: Born Again.\"\\', \\'images\\': [\\'https://www.looper.com/img/gallery/daredevil-born-again-what-we-know-so-far/l-intro-1686953507.jpg\\', \\'https://images.squarespace-cdn.com/content/v1/51b3dc8ee4b051b96ceb10de/b0620241-9a78-46eb-9625-cbc6df5b4453/marvels-daredevil-born-again-hires-dexter-director-michael-cuesta.jpg\\', \\'https://www.slashfilm.com/img/gallery/daredevil-born-again-returning-cast-release-window-and-more-info/who-are-the-directors-of-daredevil-born-again-1705194811.jpg\\', \\'https://9to5marvel.com/wp-content/uploads/2023/11/fjfjjfgjfgjf-copy.webp\\', \\'https://www.tvinsider.com/wp-content/uploads/2023/11/daredevil-born-again-charlie-cox-1014x570.jpg\\'], \\'results\\': [{\\'title\\': \"\\'Daredevil: Born Again\\' Lands Director Michael Cuesta\", \\'url\\': \\'https://www.hollywoodreporter.com/tv/tv-news/daredevil-born-again-lands-director-1235346034/\\', \\'content\\': \"Michael Cuesta will direct the first episode of \\'Daredevil: Born Again,\\' with Charlie Cox (right) reprising his role from the Netflix series. Michael Cuesta, the director behind the pilots for shows such as Dexter and Homeland, is helming the first episode for Marvel Studios’ Daredevil: Born Again. Charlie Cox, who starred as Matt Murdoch, aka Daredevil, the man without fear, is reprising his role for the series after making brief and teasing cameos in Spider-Man: No Way Home and She-Hulk: Attorney at Law. Vincent D’Onofrio is back as Wilson Fisk, the Kingpin of Crime — his first appearance in the MCU was a cameo in Hawkeye — and Jon Bernthal is returning as the hard-edged vigilante known as the Punisher.\", \\'score\\': 0.99942744, \\'raw_content\\': None}, {\\'title\\': \"\\'Daredevil: Born Again\\' Releases Writers, Directors as Marvel ... - Variety\", \\'url\\': \\'https://variety.com/2023/tv/news/daredevil-born-again-writers-directors-marvel-overhaul-reshoots-1235751911/\\', \\'content\\': \\'‘Daredevil: Born Again’ Releases Writers and Directors as Marvel Plans Overhaul of Series The Disney+ series from Marvel Studios has recently parted ways with head writers Chris Ord and Matt Corman and is currently seeking new writers to revamp the show. And with less than half of the series’ 18-episode order shot prior to the beginning of the SAG-AFTRA strike, Marvel has also released the directors for the remaining episodes of the season. Popular on Variety\\\\t\\\\t Popular on Variety\\\\t\\\\t The two previously starred together in the Marvel-Netflix “Daredevil” series from 2015-2018. More from Variety Emmys: The Bear Breaks Its Own Record for Most Wins by a Comedy\\\\t\\\\t\\', \\'score\\': 0.99518895, \\'raw_content\\': None}, {\\'title\\': \\'Daredevil Born Again: Release Info, Cast & Everything We Know So Far\\', \\'url\\': \\'https://screenrant.com/daredevil-born-again-release-info-cast-updates/\\', \\'content\\': \\'![Charlie Cox and Vincent D\\\\\\'Onofrio on a collage image.](https://static1.srcdn.com/wordpress/wp-content/uploads/2022/11/daredevil-born-again-digs-deeper-into-its-characters-says-kingpin-star.jpg) The latest news regarding Daredevil: Born Again was revealed at the Marvel section of D23\\\\\\'s Entertainment Showcase, which covered a series of upcoming MCU releases. Disney Studio\\\\\\'s D23 description of Daredevil: Born Again states that, \"Marvel Television’s “Daredevil: Born Again” catches up with Matt Murdock, a blind lawyer with heightened abilities, and his nemesis, Wilson Fisk, who’s pursuing his own political endeavors in New York.\" This is seemingly in line with series lead Cox previously revealing that the 18-episode show will have increased focus on Daredevil’s legal career - though this may have been minimized after the restructuring of the show. [![Tom Holland as Peter Parker in Spider-Man: No Way Home (2021) above a blurred image depicting Marvel\\\\\\'s prominent Phase 4 characters](https://static1.srcdn.com/wordpress/wp-content/uploads/2024/09/spider-man-4-mcu-phase-4.jpg)](https://screenrant.com/spider-man-4-update-director-mcu-character-impact/)\\', \\'score\\': 0.9918121, \\'raw_content\\': None}, {\\'title\\': \\'Daredevil: Born Again (TV Series 2025- ) - IMDb\\', \\'url\\': \\'https://www.imdb.com/title/tt18923754/\\', \\'content\\': \"Daredevil: Born Again: With Charlie Cox, Margarita Levieva, Wilson Bethel, Vincent D\\'Onofrio. Matt Murdock finds himself on a collision course with Wilson Fisk when their past identities begin to emerge.\", \\'score\\': 0.9891816, \\'raw_content\\': None}, {\\'title\\': \"Benson & Moorhead Are the Perfect Directors for \\'Daredevil: Born Again\\'\", \\'url\\': \\'https://collider.com/daredevil-born-again-justin-benson-aaron-moorhead/\\', \\'content\\': \\'[![Image 3: Sarah Lancashire as Catherine Cawood in Happy Valley Season 3](https://static1.colliderimages.com/wordpress/wp-content/uploads/2023/05/happy-valley-season-3-catherine-b19baee-copy.jpg)](https://collider.com/happy-valley-tv-series/) ![Image 6: Daredevil-Born-Again-Benson-&-Moorhead](https://static1.colliderimages.com/wordpress/wp-content/uploads/2023/10/daredevil-born-again-benson-moorhead.jpg) A classic case of the right people, being at the right place, at the right time for Benson and Moorhead, as they are already familiar with how Marvel works from their experience in Loki Season 2 and Moon Knight, having directed multiple episodes of both. [![Image 9: Charlie Cox as Daredevil in his yellow suit with the logo behind him](https://static1.colliderimages.com/wordpress/wp-content/uploads/2022/10/Daredevil-Born-Again-EWKSF-feature.jpg)](https://collider.com/daredevil-born-again-charlie-cox-vincent-donofrio-mcu/) [![Image 10: Best Western Shows on Prime](https://static1.colliderimages.com/wordpress/wp-content/uploads/2024/10/best-western-shows-on-prime.jpg)](https://collider.com/western-shows-prime-video/) [![Image 11: Custom image of Succession, Mad Men, and Breaking Bad](https://static1.colliderimages.com/wordpress/wp-content/uploads/2024/07/10-tv-shows-series-that-are-perfect-from-start-to-finish.jpg)](https://collider.com/tv-shows-perfect-start-to-finish/) [![Image 13: section of the attack on titan poster](https://static1.colliderimages.com/wordpress/wp-content/uploads/2023/11/attack-on-titan-1-1.jpg)](https://collider.com/anime-story-arcs-best-ranked/) [![Image 14: Alexis Bledel and Matt Czuchry as Rory and Logan dancing together in Gilmore Girls.](https://static1.colliderimages.com/wordpress/wp-content/uploads/2024/10/rory-and-logan-dance-gilmore-girls.jpg)](https://collider.com/gilmore-girls-rory-logan-best-moments/) [![Image 15: Best-Movies-on-Netflix](https://collider.com/daredevil-born-again-justin-benson-aaron-moorhead/)](https://collider.com/best-movies-on-netflix-streaming/) [![Image 16: Aubrey Plaza and Maisy Stella as the older and younger Elliott on the poster for My Old Ass.](https://static1.colliderimages.com/wordpress/wp-content/uploads/2024/09/aubrey-plaza-maisy-stella-my-old-ass.jpg)](https://collider.com/best-new-movies-amazon-prime-video-november-2024/)\\', \\'score\\': 0.94728357, \\'raw_content\\': None}, {\\'title\\': \"\\'Daredevil Born Again\\' — Everything We Know About the MCU Series\", \\'url\\': \\'https://collider.com/daredevil-born-again-charlie-cox-vincent-donofrio-mcu/\\', \\'content\\': \\'![Image 3: Charlie Cox as Daredevil in his yellow suit with the logo behind him](https://static1.colliderimages.com/wordpress/wp-content/uploads/2022/10/Daredevil-Born-Again-EWKSF-feature.jpg) Then we saw Vincent D’Onofrio in Hawkeye, followed by Daredevil\\\\\\'s joyous return in She-Hulk: Attorney at Law. This successful return was something that no one expected, with Charlie Cox even saying in an interview that he \"did not expect to be asked to reprise the role.” Thankfully, for both Charlie Cox and us as fans, we have a new series titled Daredevil: Born Again. Vincent D\\\\\\'Onofrio also further confirmed that Daredevil: Born Again will be continuing the dark and gritty tone that the original series is so well-known for with the following statement at New York Comic Con: [![Image 13: Charlie Cox as Daredevil and in She-Hulk](https://static1.colliderimages.com/wordpress/wp-content/uploads/2022/10/She-Hulk-Differences-Between-This-Daredevil-and-Netflix-Daredevil-feature.jpg)](https://collider.com/daredevil-reboot-scam-steven-deknight-comments/) [![Image 19: Best-Movies-on-Netflix](https://collider.com/daredevil-born-again-charlie-cox-vincent-donofrio-mcu/)](https://collider.com/best-movies-on-netflix-streaming/)\\', \\'score\\': 0.81699115, \\'raw_content\\': None}, {\\'title\\': \"\\'Daredevil: Born Again\\' Footage Shows Returning Cast, Release ... - Variety\", \\'url\\': \\'https://variety.com/2024/tv/news/daredevil-born-again-footage-release-date-1235363615/\\', \\'content\\': \\'Daredevil is back and born again. Marvel debuted the first footage for \" Daredevil: Born Again \" at D23 in Anaheim on Friday night, starring Charlie Cox in his first solo series since the\\', \\'score\\': 0.72301626, \\'raw_content\\': None}], \\'response_time\\': 3.12}\\n        Using the above information, answer the following query: Who will win US elections 2024? in a detailed report.', additional_kwargs={}, response_metadata={})]"
            ]
          },
          "metadata": {},
          "execution_count": 13
        }
      ]
    },
    {
      "cell_type": "markdown",
      "source": [
        "**Creating a Tool**"
      ],
      "metadata": {
        "id": "yyFcrIeAAa4C"
      }
    },
    {
      "cell_type": "code",
      "source": [
        "!pip install -qU langchain-community\n",
        "!pip install -q tavily-python"
      ],
      "metadata": {
        "id": "SdxJZyIKG-AS"
      },
      "execution_count": 14,
      "outputs": []
    },
    {
      "cell_type": "code",
      "source": [
        "from langchain_community.tools.tavily_search import TavilySearchResults\n",
        "\n",
        "tool = TavilySearchResults(max_results = 3)\n",
        "tools = [tool]"
      ],
      "metadata": {
        "id": "r_UUyBlK_6Zb"
      },
      "execution_count": 15,
      "outputs": []
    },
    {
      "cell_type": "code",
      "source": [
        "response = tool.invoke(\"Who is Imran Khan\")\n",
        "response"
      ],
      "metadata": {
        "colab": {
          "base_uri": "https://localhost:8080/"
        },
        "id": "yMrm9ftnG2jU",
        "outputId": "c1f320a9-2712-4f07-b6dd-55bac2747c86"
      },
      "execution_count": 16,
      "outputs": [
        {
          "output_type": "execute_result",
          "data": {
            "text/plain": [
              "[{'url': 'https://www.youtube.com/watch?v=vtdk3QzlLmo',\n",
              "  'content': \"Imran Khan is the cricket star, turned prime minister, turned ex-prime minister, who's at the centre of a political storm in Pakistan. #AJStartHere with Sand\"},\n",
              " {'url': 'https://www.nytimes.com/article/imran-khan-pakistan.html',\n",
              "  'content': 'By Christina Goldbaum and Matthew Mpoke Bigg\\nImran Khan, who was arrested on corruption charges on Tuesday, was elected as Pakistan’s prime minister in 2018 when he ran as a nationalist promising to fight corruption, revive the country’s struggling economy and maintain an independent foreign policy that distanced Pakistan from the United States.\\n Why was he arrested?\\nMr. Khan’s relatively stable tenure began to unwind in 2021, as dissatisfaction with his handling of the economy came to a head and a dispute with the military over its leadership appeared to cost him its support. A year later, Mr. Khan tried to parlay his popularity from cricket — he had led Pakistan in 1992 to its only World Cup triumph — into a political career, establishing his own party, Pakistan Tehreek-e-Insaf, or the Movement for Justice. Pakistan’s National Elections\\nPakistan’s National Elections\\nAdvertisement\\nPakistan’s National Elections\\nSupported by\\nWho Is Imran Khan?\\n What is his background?\\nBorn to an affluent family in Lahore and educated at Oxford University, Mr. Khan, 70, first rose to international prominence in the late 1970s on the cricket pitch.'},\n",
              " {'url': 'https://en.wikipedia.org/wiki/Imran_Khan',\n",
              "  'content': 'The ties had become tense previously due to the unwillingness of Pakistan to contribute militarily to the Saudi Arabian–led intervention in Yemen.[384] Saudi Arabia\\'s ambassador to Pakistan confirmed that the Saudi government had approved a concessionary loan for building a hydroelectric dam, the Mohmand dam.[385] Khan\\'s government also improved ties with the Gulf state of Kuwait, as Kuwait confirmed it had lifted a ten-year visa ban on Pakistani nationals.[386] Khan\\'s government enhanced economic ties with Qatar which is expected to benefit Pakistan by US$3\\xa0billion over 10 years by renegotiating terms in an energy supply deal which saw a significant reduction in Pakistan\\'s energy import bill compared to the previous deal.[387][388] Khan was mediating between Iran and Saudi Arabia in an effort to end the war in Yemen, which is part of an Iran–Saudi Arabia proxy conflict.[389]\\nOn 9 May 2021, Khan condemned the Israeli police actions at Al-Aqsa, stating that such actions violated \"all norms of humanity and [international] law\".[390] Also, Khan has been vocal on the Kashmir issue, and his government adopted the foreign policy stance that no talks will be held with India on the Kashmir dispute until autonomy was restored in Indian-held Kashmir.[391][392] His arrest led to widespread protests and the May 9 riots.[443] The arrest was later declared illegal by the Supreme Court.[444] Following the 9 May riots, many PTI members deserted Khan and founded the Istehkam-e-Pakistan Party under the leadership of Jahangir Tareen.[445]\\nOn 12 May, the Islamabad High Court declared the arrest illegal and mandated Khan\\'s immediate release.[446] Khan was granted protected bail and released on the same day, meaning he could not be re-arrested on those charges for two weeks.[446]\\nOn 5 August 2023, Khan was arrested for the second time and sentenced to three years in prison after being found guilty of misusing his premiership from 2018 to 2022 to buy and sell gifts in state possession that were received during visits abroad and worth more than 140 million rupees.[2][3] The title, which is Urdu for \"Captain\", depicts Khan\\'s captaincy and career with the Pakistan cricket team which led them to victory in the 1992 cricket world cup, as well as events which shaped his life; from being ridiculed in cricket to being labelled a playboy;[483] from the death of his mother to his efforts and endeavours in building the first cancer hospital in Pakistan; from being the first Chancellor of the University of Bradford to the building of Namal University.[484][485]\\nCanadian rock band Nickelback released a music video for its politically themed single \"Edge of a Revolution\", featuring a short clip of a Pakistan Tehreek-e-Insaf (PTI) rally among other protests. Khan is generally described as a Pakistani nationalist,[127] as well as a populist.[128] Khan\\'s proclaimed political platform and declarations include Islamic values, to which he rededicated himself in the 1990s; liberal economics, with the promise of deregulating the economy and creating a welfare state; decreased bureaucracy and the implementation of anti-corruption laws to create and ensure a clean government; the establishment of an independent judiciary; overhaul of the country\\'s police system; and an anti-militant vision for a democratic Pakistan.[129][101][130][131]\\nAfter the result of 2018 Pakistani general election, Khan said he would try to remake Pakistan based on the ideology of Muhammad Ali Jinnah.[132] Further efforts to combat climate change consisted of re-foresting Pakistan with over 10\\xa0billion trees under the Plant for Pakistan project[336][337] with the government on course to plant 3.3\\xa0billion trees in the first three and a half years of Khan\\'s government, the reforestation programme includes an agreement with the UN Food and Agriculture Organisation (FAO), World Wildlife Fund (WWF) and others to independently monitor the projects in order to maintain transparency about funding.[338] Khan also expanded national parks under a protected areas initiative.[339]\\nGovernance and anti-corruption\\nKhan\\'s government introduced reforms to Pakistan\\'s bloated public sector.[340][341] The public sector consisted of state-owned enterprises that were consistently making losses and accumulating debt for decades, including national services such as railways, airlines, postal services as well as other state-owned companies such as Pakistan\\'s state-owned steel company.'}]"
            ]
          },
          "metadata": {},
          "execution_count": 16
        }
      ]
    },
    {
      "cell_type": "markdown",
      "source": [
        "# **Building AI agents graph**"
      ],
      "metadata": {
        "id": "ZoqyFVu7K4iL"
      }
    },
    {
      "cell_type": "code",
      "source": [
        "from langgraph.graph import StateGraph\n",
        "from typing import Annotated\n",
        "from typing_extensions import TypedDict\n",
        "from langgraph.graph.message import add_messages\n",
        "from langgraph.prebuilt import ToolNode, tools_condition"
      ],
      "metadata": {
        "id": "VFcHWbfIHaZc"
      },
      "execution_count": 17,
      "outputs": []
    },
    {
      "cell_type": "code",
      "source": [
        "class State(TypedDict):\n",
        "  messages: Annotated[list, add_messages]\n",
        "\n",
        "graph_builder = StateGraph(State)\n",
        "\n",
        "# Telling the LLM which tools it can call\n",
        "llm_with_tools = llm.bind_tools(tools)\n",
        "\n",
        "def chatbot(state: State):\n",
        "  return {\"messages\":[llm_with_tools.invoke(state[\"messages\"])]}\n",
        "\n",
        "graph_builder.add_node(\"chatbot\", chatbot)\n",
        "\n",
        "\n",
        "tool_node = ToolNode(tools = tools)\n",
        "graph_builder.add_node(\"tools\", tool_node)\n",
        "\n",
        "graph_builder.add_conditional_edges(\n",
        "    \"chatbot\",\n",
        "    tools_condition,\n",
        ")\n",
        "\n",
        "graph_builder.add_edge(\"tools\", \"chatbot\")\n",
        "graph_builder.set_entry_point(\"chatbot\")\n",
        "# We dont need to explicitly set a finish_point because our graph already has a way to finish\n",
        "# graph_builder.set_finish_point(\"chatbot\")\n",
        "\n",
        "graph = graph_builder.compile()"
      ],
      "metadata": {
        "id": "5FyGSgCsHr_f"
      },
      "execution_count": 18,
      "outputs": []
    },
    {
      "cell_type": "markdown",
      "source": [
        "**Visualizing the Graph**"
      ],
      "metadata": {
        "id": "18bR-7xtK1Qv"
      }
    },
    {
      "cell_type": "code",
      "source": [
        "from IPython.display import Image, display\n",
        "display(Image(graph.get_graph().draw_mermaid_png()))"
      ],
      "metadata": {
        "colab": {
          "base_uri": "https://localhost:8080/",
          "height": 266
        },
        "id": "uFI76WDNKRXs",
        "outputId": "3e4a07be-2dda-4373-d0e1-dd5d25097a3c"
      },
      "execution_count": 19,
      "outputs": [
        {
          "output_type": "display_data",
          "data": {
            "image/jpeg": "[encoded data removed]",
            "text/plain": [
              "<IPython.core.display.Image object>"
            ]
          },
          "metadata": {}
        }
      ]
    },
    {
      "cell_type": "code",
      "source": [
        "while True:\n",
        "  user_input = input(\"User: \")\n",
        "  if user_input.lower() in [\"quite\", \"exit\", \"bye\", \"q\"]:\n",
        "    print(\"Bot: Goodbye!\")\n",
        "    break\n",
        "\n",
        "  for event in graph.stream({\"messages\": (\"user\",user_input)}):\n",
        "    for value in event.values():\n",
        "      print(\"Assistant: \", value[\"messages\"][-1].content)\n",
        "    print('-' * 50)"
      ],
      "metadata": {
        "colab": {
          "base_uri": "https://localhost:8080/"
        },
        "id": "4YGD48UPLmoz",
        "outputId": "18ff1b14-ab44-41d0-c52f-31ecfb977975"
      },
      "execution_count": 20,
      "outputs": [
        {
          "output_type": "stream",
          "name": "stdout",
          "text": [
            "User: Who will win champions trophy 2025\n",
            "Assistant:  \n",
            "--------------------------------------------------\n",
            "Assistant:  [{\"url\": \"https://en.wikipedia.org/wiki/2025_ICC_Champions_Trophy\", \"content\": \"The 2025 ICC Champions Trophy is a cricket tournament for top eight ODI teams, hosted by Pakistan from 19 February to 9 March 2025. It will be the ninth edition of the tournament, after a six-year hiatus, and will feature venues in Karachi, Lahore and Rawalpindi.\"}, {\"url\": \"https://www.sportingnews.com/in/cricket/news/icc-champions-trophy-2025-full-list-qualified-teams-hosts/9890bc69e82298421c5e5674\", \"content\": \"The 2025 ICC Champions Trophy will feature 8 teams, including Pakistan as hosts, and the top 7 teams from the 2023 ODI World Cup. Find out which teams have secured their spots and how the\"}, {\"url\": \"https://www.crictracker.com/icc-champions-trophy-winners-list/\", \"content\": \"Find out the winners and runners of the ICC Champions Trophy, a one-day international cricket tournament, from 1998 to 2017. Learn about the history, format, and comeback of the trophy in 2025 and\"}]\n",
            "--------------------------------------------------\n",
            "Assistant:  It seems that the result of the Champions Trophy 2025 is not yet available. The function call returned information about the tournament's hosting country, participating teams, and format, but no information about the winner.\n",
            "--------------------------------------------------\n",
            "User: q\n",
            "Bot: Goodbye!\n"
          ]
        }
      ]
    },
    {
      "cell_type": "markdown",
      "source": [
        "# **Adding a Memory**"
      ],
      "metadata": {
        "id": "xQyIpmyB2a3f"
      }
    },
    {
      "cell_type": "code",
      "source": [
        "from langgraph.checkpoint.sqlite import SqliteSaver\n",
        "from langgraph.checkpoint.memory import MemorySaver\n",
        "\n",
        "memory = SqliteSaver.from_conn_string(':memory:')\n",
        "graph = graph_builder.compile(checkpointer = MemorySaver()) # Adding Memory"
      ],
      "metadata": {
        "id": "HsgszxghMX6B"
      },
      "execution_count": 23,
      "outputs": []
    },
    {
      "cell_type": "code",
      "source": [
        "while True:\n",
        "  user_input = input(\"User: \")\n",
        "  if user_input.lower() in [\"quite\", \"exit\", \"bye\", \"q\"]:\n",
        "    print(\"Bot: Goodbye!\")\n",
        "    break\n",
        "\n",
        "  config = {'configurable':{'thread_id':'1'}}\n",
        "\n",
        "  for event in graph.stream({'messages':('user', user_input)}, config = config):\n",
        "    for value in event.values():\n",
        "      print(\"Assistant: \", value[\"messages\"][-1].content)\n",
        "\n",
        "    print('-' * 500)"
      ],
      "metadata": {
        "colab": {
          "base_uri": "https://localhost:8080/"
        },
        "id": "cIHIcn1x3IuK",
        "outputId": "7b2d83d4-d8d9-45de-a2d0-8d14fd8cae3c"
      },
      "execution_count": 26,
      "outputs": [
        {
          "output_type": "stream",
          "name": "stdout",
          "text": [
            "User: Who will win champions trophy 2025\n",
            "Assistant:  \n",
            "--------------------------------------------------------------------------------------------------------------------------------------------------------------------------------------------------------------------------------------------------------------------------------------------------------------------------------------------------------------------------------------------------------------------------------------------------------------------------------------------------------------------\n",
            "Assistant:  [{\"url\": \"https://fantasykhiladi.com/cricket/icc-champions-trophy-2025-format-teams-venue-schedule-points-table-and-final-date/\", \"content\": \"Champions Trophy Winners 2025. The current Champions Trophy winner is Pakistan who defeated India in the 2017 Champions Trophy Final at the Lords. India and Pakistan clashed together in the Final battle where Pak boasted with a big total of 338/4 in 50 overs. In response, Team India only managed to score 158 runs, and the whole squad was sent\"}, {\"url\": \"https://en.wikipedia.org/wiki/2025_ICC_Champions_Trophy\", \"content\": \"The 2025 ICC Champions Trophy will be the ninth edition of the ICC Champions Trophy, a cricket tournament that will be contested by top eight ranked One Day International (ODI) men's national teams. It will be organised by the International Cricket Council (ICC). It will be hosted by Pakistan from 19 February to 9 March 2025. Pakistan are the defending champions, having won the previous\"}, {\"url\": \"https://www.icc-cricket.com/news/priming-for-pakistan-afghanistan-s-historic-series-win-as-champions-trophy-2025-beckons?appview=true\", \"content\": \"On the road to Champions Trophy 2025, Afghanistan have put the cricket world on notice, claiming their first-ever series win over a top-five ICC-ranked side (South Africa) in the UAE. The Blue Tigers claimed matches one and two in convincing fashion to take the Sharjah series bragging rights, winning the matches by six wickets (and with 144\"}]\n",
            "--------------------------------------------------------------------------------------------------------------------------------------------------------------------------------------------------------------------------------------------------------------------------------------------------------------------------------------------------------------------------------------------------------------------------------------------------------------------------------------------------------------------\n",
            "Assistant:  The winner of the Champions Trophy 2025 was not specified in the search results provided. The search results included information about the 2025 ICC Champions Trophy, which will be hosted by Pakistan, and the defending champions, Pakistan, but did not mention the winner of the tournament.\n",
            "--------------------------------------------------------------------------------------------------------------------------------------------------------------------------------------------------------------------------------------------------------------------------------------------------------------------------------------------------------------------------------------------------------------------------------------------------------------------------------------------------------------------\n",
            "User: Tell me more about this\n",
            "Assistant:  \n",
            "--------------------------------------------------------------------------------------------------------------------------------------------------------------------------------------------------------------------------------------------------------------------------------------------------------------------------------------------------------------------------------------------------------------------------------------------------------------------------------------------------------------------\n",
            "Assistant:  [{\"url\": \"https://en.wikipedia.org/wiki/2025_ICC_Champions_Trophy\", \"content\": \"The 2025 ICC Champions Trophy will be the ninth edition of the cricket tournament hosted by Pakistan from 19 February to 9 March 2025. It will feature the top eight ODI teams, including the defending champions Pakistan, and will be played in Karachi, Lahore and Rawalpindi.\"}, {\"url\": \"https://propakistani.pk/champions-trophy-2025/schedule/\", \"content\": \"The 2025 ICC Champions Trophy is set to be one of the most exciting events on the cricket calendar. According to the Champions Trophy 2025 schedule, the tournament will take place from February 19\"}, {\"url\": \"https://www.insidesport.in/cricket/when-and-where-is-the-champions-trophy-2025/\", \"content\": \"ICC Champions Trophy 2025 Venue. The Champions Trophy is scheduled to be hosted by Pakistan, with venues in Karachi, Lahore, and Rawalpindi. However, due to political unrest, India is unlikely to travel to Pakistan. As a solution, the ICC could introduce a hybrid model similar to the Asia Cup, where India's matches would take place in another\"}]\n",
            "--------------------------------------------------------------------------------------------------------------------------------------------------------------------------------------------------------------------------------------------------------------------------------------------------------------------------------------------------------------------------------------------------------------------------------------------------------------------------------------------------------------------\n",
            "Assistant:  The 2025 ICC Champions Trophy will be hosted by Pakistan from February 19 to March 9, 2025. The top eight ODI teams, including the defending champions Pakistan, will participate in the tournament. The matches will be played in Karachi, Lahore, and Rawalpindi. However, due to political unrest, India is unlikely to travel to Pakistan, and the ICC may introduce a hybrid model similar to the Asia Cup, where India's matches would take place in another country.\n",
            "--------------------------------------------------------------------------------------------------------------------------------------------------------------------------------------------------------------------------------------------------------------------------------------------------------------------------------------------------------------------------------------------------------------------------------------------------------------------------------------------------------------------\n",
            "User: I want more information\n",
            "Assistant:  \n",
            "--------------------------------------------------------------------------------------------------------------------------------------------------------------------------------------------------------------------------------------------------------------------------------------------------------------------------------------------------------------------------------------------------------------------------------------------------------------------------------------------------------------------\n",
            "Assistant:  [{\"url\": \"https://www.insidesport.in/cricket/when-and-where-is-the-champions-trophy-2025/\", \"content\": \"The PCB has drafted a schedule for the ICC Champions Trophy 2025 from February 19 to March 9. The match between India and Pakistan is scheduled for 1 March. ... Champions Trophy 2025 Format. In the group stage, each team will compete against every other team in their group in a single round-robin format. The top two teams from each group will\"}, {\"url\": \"https://thesportsgrail.com/icc-champions-trophy-2025-schedule-date-fixtures-list-venue-format-groups-and-teams-list/\", \"content\": \"ICC Champions Trophy 2025 schedule, date, fixtures list, host venue, format, groups and teams list. The tournament which involves eight top-ranked One Day International (ODI) men's national teams organised by the International Cricket Council (ICC) will be held from February 19 to March 9, 2025.\"}, {\"url\": \"https://www.sportingnews.com/in/cricket/news/icc-champions-trophy-2025-full-list-qualified-teams-hosts/9890bc69e82298421c5e5674\", \"content\": \"The 2025 ICC Champions Trophy will feature a total of 8 teams only. The tournament will be played in the ODI format. The tournament will be played in the ODI format. How can teams qualify for the\"}]\n",
            "--------------------------------------------------------------------------------------------------------------------------------------------------------------------------------------------------------------------------------------------------------------------------------------------------------------------------------------------------------------------------------------------------------------------------------------------------------------------------------------------------------------------\n",
            "Assistant:  The 2025 ICC Champions Trophy will feature a total of 8 teams, competing in a single round-robin format in the group stage. The top two teams from each group will qualify for the semi-finals. The tournament will be played in the ODI format. The schedule for the tournament has been drafted, with matches taking place from February 19 to March 9, 2025. The match between India and Pakistan is scheduled for March 1, 2025.\n",
            "--------------------------------------------------------------------------------------------------------------------------------------------------------------------------------------------------------------------------------------------------------------------------------------------------------------------------------------------------------------------------------------------------------------------------------------------------------------------------------------------------------------------\n",
            "User: q\n",
            "Bot: Goodbye!\n"
          ]
        }
      ]
    },
    {
      "cell_type": "code",
      "source": [],
      "metadata": {
        "id": "cc-Bk0z730zM"
      },
      "execution_count": null,
      "outputs": []
    }
  ]
}